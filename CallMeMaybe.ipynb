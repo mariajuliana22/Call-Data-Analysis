{
 "cells": [
  {
   "cell_type": "markdown",
   "id": "83f3db7c",
   "metadata": {},
   "source": [
    "# Telecomunicaciones: identificar operadores ineficaces  \n",
    "\n",
    "# Telecommunications: Identifying Ineffective Operators\n",
    "\n",
    "El servicio de telefonía virtual CallMeMaybe está desarrollando una nueva función que brindará a los supervisores y las supervisores información sobre los operadores menos eficaces. Se considera que un operador es ineficaz si tiene una gran cantidad de llamadas entrantes perdidas (internas y externas) y un tiempo de espera prolongado para las llamadas entrantes. Además, si se supone que un operador debe realizar llamadas salientes, un número reducido de ellas también será un signo de ineficacia.\n",
    "\n",
    "The virtual telephony service CallMeMaybe is developing a new feature that will provide supervisors with information about the least effective operators. An operator is considered ineffective if they have a high number of missed incoming calls (both internal and external) and long waiting times for incoming calls. Additionally, if an operator is supposed to make outgoing calls, a low number of those will also indicate inefficiency.\n",
    "\n",
    "Pasos del proyecto / Project Steps:\n",
    "1. Obejtivo\n",
    "2. Análisis exploratorio de datos\n",
    "3. Identificar operadores ineficaces\n",
    "4. Pruena de hipótrsis\n",
    "5. Conclusiones y recomendaciones\n",
    "6. Fuentes de información\n",
    "\n",
    "---\n",
    "\n",
    "1. Objective\n",
    "2. Exploratory Data Analysis\n",
    "3. Identifying Ineffective Operators\n",
    "4. Hypothesis Testing\n",
    "5. Conclusions and Recommendations\n",
    "6. Information Sources\n",
    "\n",
    "**Descripción de los datos / Data Description**\n",
    "Los datasets contienen información sobre el uso del servicio de telefonía virtual CallMeMaybe. Sus clientes son organizaciones que necesitan distribuir gran cantidad de llamadas entrantes entre varios operadores, o realizar llamadas salientes a través de sus operadores. Los operadores también pueden realizar llamadas internas para comunicarse entre ellos. Estas llamadas se realizan a través de la red de CallMeMaybe.\n",
    "\n",
    "El dataset comprimido `telecom_dataset_us.csv` contiene las siguientes columnas:\n",
    "- `user_id`: ID de la cuenta de cliente\n",
    "- `date`: fecha en la que se recuperaron las estadísticas\n",
    "- `direction`: \"dirección\" de llamada (`out` para saliente, `in` para entrante)\n",
    "- `internal`: si la llamada fue interna (entre los operadores de un cliente o clienta)\n",
    "- `operator_id`: identificador del operador\n",
    "- `is_missed_call`: si fue una llamada perdida\n",
    "- `calls_count`: número de llamadas\n",
    "- `call_duration`: duración de la llamada (sin incluir el tiempo de espera)\n",
    "- `total_call_duration`: duración de la llamada (incluido el tiempo de espera)\n",
    "\n",
    "El conjunto de datos `telecom_clients_us.csv` tiene las siguientes columnas:\n",
    "- `user_id`: ID de usuario/a\n",
    "- `tariff_plan`: tarifa actual de la clientela\n",
    "- `date_start`: fecha de registro de la clientela\n",
    "\n",
    "---\n",
    "\n",
    "The datasets contain information about the usage of the virtual telephony service CallMeMaybe. Its clients are organizations that need to distribute a large number of incoming calls among several operators or make outgoing calls through their operators. Operators can also make internal calls to communicate with one another. These calls are made through the CallMeMaybe network.\n",
    "\n",
    "The compressed dataset `telecom_dataset_us.csv` contains the following columns:\n",
    "- `user_id`: Client account ID\n",
    "- `date`: Date when the statistics were retrieved\n",
    "- `direction`: \"Direction\" of the call (`out` for outgoing, `in` for incoming)\n",
    "- `internal`: Indicates if the call was internal (between operators of the same client)\n",
    "- `operator_id`: Operator identifier\n",
    "- `is_missed_call`: Indicates if it was a missed call\n",
    "- `calls_count`: Number of calls\n",
    "- `call_duration`: Duration of the call (excluding wait time)\n",
    "- `total_call_duration`: Duration of the call (including wait time)\n",
    "\n",
    "The dataset `telecom_clients_us.csv` contains the following columns:\n",
    "- `user_id`: User ID\n",
    "- `tariff_plan`: Client’s current tariff plan\n",
    "- `date_start`: Date the client registered"
   ]
  },
  {
   "cell_type": "markdown",
   "id": "897f5d36",
   "metadata": {},
   "source": [
    "## Obejtivo / Objective\n",
    "Identificar operadores ineficaces, para saber con quienes debe o no seguir trabajando el departamento de operaciones de CallMeMaybe.\n",
    "\n",
    "La eficiencia en este contexto es crucial porque afecta directamente el rendimiento general del servicio de telefonía virtual. Un sistema eficiente mejora la experiencia del cliente y optimiza los recursos operativos. Esto es especialmente relevante en CallMeMaybe, ya que los supervisores buscan identificar operadores ineficaces para corregir problemas.\n",
    "\n",
    "---\n",
    "\n",
    "Identify ineffective operators to determine with whom the CallMeMaybe operations department should or should not continue working.\n",
    "\n",
    "Efficiency in this context is crucial because it directly impacts the overall performance of the virtual telephony service. An efficient system improves the customer experience and optimizes operational resources. This is especially relevant for CallMeMaybe, as supervisors seek to identify ineffective operators to address and correct issues."
   ]
  },
  {
   "cell_type": "markdown",
   "id": "f840ab0f",
   "metadata": {},
   "source": [
    "## Análisis exploratorio de datos / Exploratory Data Analysis"
   ]
  },
  {
   "cell_type": "code",
   "execution_count": 1,
   "id": "81201b9d",
   "metadata": {},
   "outputs": [],
   "source": [
    "# Importar librerias\n",
    "# Import Libraries\n",
    "import pandas as pd\n",
    "from datetime import datetime\n",
    "import matplotlib.pyplot as plt\n",
    "import seaborn as sns\n",
    "from scipy.stats import pearsonr"
   ]
  },
  {
   "cell_type": "markdown",
   "id": "386cd5a7",
   "metadata": {},
   "source": [
    "### Archivos / Files"
   ]
  },
  {
   "cell_type": "code",
   "execution_count": 2,
   "id": "8f7f164f",
   "metadata": {},
   "outputs": [],
   "source": [
    "# Abrir archivos\n",
    "# Open files\n",
    "data = pd.read_csv('/datasets/telecom_dataset_us.csv')\n",
    "clients = pd.read_csv('/datasets/telecom_clients_us.csv')"
   ]
  },
  {
   "cell_type": "code",
   "execution_count": 3,
   "id": "f7053b3f",
   "metadata": {},
   "outputs": [
    {
     "data": {
      "text/html": [
       "<div>\n",
       "<style scoped>\n",
       "    .dataframe tbody tr th:only-of-type {\n",
       "        vertical-align: middle;\n",
       "    }\n",
       "\n",
       "    .dataframe tbody tr th {\n",
       "        vertical-align: top;\n",
       "    }\n",
       "\n",
       "    .dataframe thead th {\n",
       "        text-align: right;\n",
       "    }\n",
       "</style>\n",
       "<table border=\"1\" class=\"dataframe\">\n",
       "  <thead>\n",
       "    <tr style=\"text-align: right;\">\n",
       "      <th></th>\n",
       "      <th>user_id</th>\n",
       "      <th>date</th>\n",
       "      <th>direction</th>\n",
       "      <th>internal</th>\n",
       "      <th>operator_id</th>\n",
       "      <th>is_missed_call</th>\n",
       "      <th>calls_count</th>\n",
       "      <th>call_duration</th>\n",
       "      <th>total_call_duration</th>\n",
       "    </tr>\n",
       "  </thead>\n",
       "  <tbody>\n",
       "    <tr>\n",
       "      <th>0</th>\n",
       "      <td>166377</td>\n",
       "      <td>2019-08-04 00:00:00+03:00</td>\n",
       "      <td>in</td>\n",
       "      <td>False</td>\n",
       "      <td>NaN</td>\n",
       "      <td>True</td>\n",
       "      <td>2</td>\n",
       "      <td>0</td>\n",
       "      <td>4</td>\n",
       "    </tr>\n",
       "    <tr>\n",
       "      <th>1</th>\n",
       "      <td>166377</td>\n",
       "      <td>2019-08-05 00:00:00+03:00</td>\n",
       "      <td>out</td>\n",
       "      <td>True</td>\n",
       "      <td>880022.0</td>\n",
       "      <td>True</td>\n",
       "      <td>3</td>\n",
       "      <td>0</td>\n",
       "      <td>5</td>\n",
       "    </tr>\n",
       "    <tr>\n",
       "      <th>2</th>\n",
       "      <td>166377</td>\n",
       "      <td>2019-08-05 00:00:00+03:00</td>\n",
       "      <td>out</td>\n",
       "      <td>True</td>\n",
       "      <td>880020.0</td>\n",
       "      <td>True</td>\n",
       "      <td>1</td>\n",
       "      <td>0</td>\n",
       "      <td>1</td>\n",
       "    </tr>\n",
       "    <tr>\n",
       "      <th>3</th>\n",
       "      <td>166377</td>\n",
       "      <td>2019-08-05 00:00:00+03:00</td>\n",
       "      <td>out</td>\n",
       "      <td>True</td>\n",
       "      <td>880020.0</td>\n",
       "      <td>False</td>\n",
       "      <td>1</td>\n",
       "      <td>10</td>\n",
       "      <td>18</td>\n",
       "    </tr>\n",
       "    <tr>\n",
       "      <th>4</th>\n",
       "      <td>166377</td>\n",
       "      <td>2019-08-05 00:00:00+03:00</td>\n",
       "      <td>out</td>\n",
       "      <td>False</td>\n",
       "      <td>880022.0</td>\n",
       "      <td>True</td>\n",
       "      <td>3</td>\n",
       "      <td>0</td>\n",
       "      <td>25</td>\n",
       "    </tr>\n",
       "  </tbody>\n",
       "</table>\n",
       "</div>"
      ],
      "text/plain": [
       "   user_id                       date direction internal  operator_id  \\\n",
       "0   166377  2019-08-04 00:00:00+03:00        in    False          NaN   \n",
       "1   166377  2019-08-05 00:00:00+03:00       out     True     880022.0   \n",
       "2   166377  2019-08-05 00:00:00+03:00       out     True     880020.0   \n",
       "3   166377  2019-08-05 00:00:00+03:00       out     True     880020.0   \n",
       "4   166377  2019-08-05 00:00:00+03:00       out    False     880022.0   \n",
       "\n",
       "   is_missed_call  calls_count  call_duration  total_call_duration  \n",
       "0            True            2              0                    4  \n",
       "1            True            3              0                    5  \n",
       "2            True            1              0                    1  \n",
       "3           False            1             10                   18  \n",
       "4            True            3              0                   25  "
      ]
     },
     "execution_count": 3,
     "metadata": {},
     "output_type": "execute_result"
    }
   ],
   "source": [
    "# Muestra data\n",
    "# Show data\n",
    "data.head()"
   ]
  },
  {
   "cell_type": "markdown",
   "id": "01cdab30",
   "metadata": {},
   "source": [
    "### Información general / General information"
   ]
  },
  {
   "cell_type": "code",
   "execution_count": 4,
   "id": "add03e2e",
   "metadata": {},
   "outputs": [
    {
     "name": "stdout",
     "output_type": "stream",
     "text": [
      "<class 'pandas.core.frame.DataFrame'>\n",
      "RangeIndex: 53902 entries, 0 to 53901\n",
      "Data columns (total 9 columns):\n",
      " #   Column               Non-Null Count  Dtype  \n",
      "---  ------               --------------  -----  \n",
      " 0   user_id              53902 non-null  int64  \n",
      " 1   date                 53902 non-null  object \n",
      " 2   direction            53902 non-null  object \n",
      " 3   internal             53785 non-null  object \n",
      " 4   operator_id          45730 non-null  float64\n",
      " 5   is_missed_call       53902 non-null  bool   \n",
      " 6   calls_count          53902 non-null  int64  \n",
      " 7   call_duration        53902 non-null  int64  \n",
      " 8   total_call_duration  53902 non-null  int64  \n",
      "dtypes: bool(1), float64(1), int64(4), object(3)\n",
      "memory usage: 3.3+ MB\n"
     ]
    }
   ],
   "source": [
    "# Información general data\n",
    "# General data information\n",
    "data.info()"
   ]
  },
  {
   "cell_type": "markdown",
   "id": "786d9433",
   "metadata": {},
   "source": [
    "Se observan valores ausentes en `internal` y `operator_id` y `date` no tiene el tipo correcto.\n",
    "\n",
    "There are missing values in `internal` and `operator_id`, and `date` does not have the correct type."
   ]
  },
  {
   "cell_type": "code",
   "execution_count": 5,
   "id": "c8503f25",
   "metadata": {},
   "outputs": [],
   "source": [
    "# Cambiar `date` a datetime\n",
    "# Change `date` to datetime\n",
    "data['date'] = pd.to_datetime(data['date'], format = '%Y-%m-%d %H:%M:%S%z')"
   ]
  },
  {
   "cell_type": "code",
   "execution_count": 6,
   "id": "2734a9e4",
   "metadata": {},
   "outputs": [
    {
     "data": {
      "text/html": [
       "<div>\n",
       "<style scoped>\n",
       "    .dataframe tbody tr th:only-of-type {\n",
       "        vertical-align: middle;\n",
       "    }\n",
       "\n",
       "    .dataframe tbody tr th {\n",
       "        vertical-align: top;\n",
       "    }\n",
       "\n",
       "    .dataframe thead th {\n",
       "        text-align: right;\n",
       "    }\n",
       "</style>\n",
       "<table border=\"1\" class=\"dataframe\">\n",
       "  <thead>\n",
       "    <tr style=\"text-align: right;\">\n",
       "      <th></th>\n",
       "      <th>user_id</th>\n",
       "      <th>tariff_plan</th>\n",
       "      <th>date_start</th>\n",
       "    </tr>\n",
       "  </thead>\n",
       "  <tbody>\n",
       "    <tr>\n",
       "      <th>0</th>\n",
       "      <td>166713</td>\n",
       "      <td>A</td>\n",
       "      <td>2019-08-15</td>\n",
       "    </tr>\n",
       "    <tr>\n",
       "      <th>1</th>\n",
       "      <td>166901</td>\n",
       "      <td>A</td>\n",
       "      <td>2019-08-23</td>\n",
       "    </tr>\n",
       "    <tr>\n",
       "      <th>2</th>\n",
       "      <td>168527</td>\n",
       "      <td>A</td>\n",
       "      <td>2019-10-29</td>\n",
       "    </tr>\n",
       "    <tr>\n",
       "      <th>3</th>\n",
       "      <td>167097</td>\n",
       "      <td>A</td>\n",
       "      <td>2019-09-01</td>\n",
       "    </tr>\n",
       "    <tr>\n",
       "      <th>4</th>\n",
       "      <td>168193</td>\n",
       "      <td>A</td>\n",
       "      <td>2019-10-16</td>\n",
       "    </tr>\n",
       "  </tbody>\n",
       "</table>\n",
       "</div>"
      ],
      "text/plain": [
       "   user_id tariff_plan  date_start\n",
       "0   166713           A  2019-08-15\n",
       "1   166901           A  2019-08-23\n",
       "2   168527           A  2019-10-29\n",
       "3   167097           A  2019-09-01\n",
       "4   168193           A  2019-10-16"
      ]
     },
     "execution_count": 6,
     "metadata": {},
     "output_type": "execute_result"
    }
   ],
   "source": [
    "# Muestra clients\n",
    "# Show clients\n",
    "clients.head()"
   ]
  },
  {
   "cell_type": "code",
   "execution_count": 7,
   "id": "fd1fe90e",
   "metadata": {},
   "outputs": [
    {
     "name": "stdout",
     "output_type": "stream",
     "text": [
      "<class 'pandas.core.frame.DataFrame'>\n",
      "RangeIndex: 732 entries, 0 to 731\n",
      "Data columns (total 3 columns):\n",
      " #   Column       Non-Null Count  Dtype \n",
      "---  ------       --------------  ----- \n",
      " 0   user_id      732 non-null    int64 \n",
      " 1   tariff_plan  732 non-null    object\n",
      " 2   date_start   732 non-null    object\n",
      "dtypes: int64(1), object(2)\n",
      "memory usage: 17.3+ KB\n"
     ]
    }
   ],
   "source": [
    "# Información general clients\n",
    "# General information clients\n",
    "clients.info()"
   ]
  },
  {
   "cell_type": "markdown",
   "id": "70e9abb0",
   "metadata": {},
   "source": [
    "No se observan valores ausentes y `date_start` no tiene el tipo correcto.\n",
    "\n",
    "No missing values are observed, and `date_start` does not have the correct type."
   ]
  },
  {
   "cell_type": "code",
   "execution_count": 8,
   "id": "fb1bd8bf",
   "metadata": {},
   "outputs": [],
   "source": [
    "# Cambiar 'date_start' a datetime\n",
    "# Change `date_start` to datetime\n",
    "clients['date_start'] = pd.to_datetime(clients['date_start'], format = '%Y-%m-%d')"
   ]
  },
  {
   "cell_type": "markdown",
   "id": "c0d660a7",
   "metadata": {},
   "source": [
    "### Valores ausentes / Missing values"
   ]
  },
  {
   "cell_type": "code",
   "execution_count": 9,
   "id": "c6281c6c",
   "metadata": {},
   "outputs": [
    {
     "data": {
      "text/plain": [
       "user_id                   0\n",
       "date                      0\n",
       "direction                 0\n",
       "internal                117\n",
       "operator_id            8172\n",
       "is_missed_call            0\n",
       "calls_count               0\n",
       "call_duration             0\n",
       "total_call_duration       0\n",
       "dtype: int64"
      ]
     },
     "execution_count": 9,
     "metadata": {},
     "output_type": "execute_result"
    }
   ],
   "source": [
    "# Verificar si hay valores ausentes en `data`\n",
    "# Check if there are missing values in `data`\n",
    "data.isna().sum()"
   ]
  },
  {
   "cell_type": "markdown",
   "id": "b5738e38",
   "metadata": {},
   "source": [
    "Hay más de 8000 datos ausentes de `operator_id`, no hay forma de recuperar los datos ni saber por qué faltan. \n",
    "Como la finalidad del proyecto es saber la eficacia de los operadores, sin su id estos datos no son utiles, así que no se van a tener en cuenta para el análisis. Además los valores ausentes restantes de `internal` se van a reemplazar por `unknown`.\n",
    "\n",
    "There are more than 8000 missing data points for `operator_id`, and there's no way to recover or determine why they are missing. Since the project's goal is to assess the effectiveness of the operators, without their ID, this data is not useful and will be excluded from the analysis. Additionally, the remaining missing values in `internal` will be replaced with `unknown`."
   ]
  },
  {
   "cell_type": "code",
   "execution_count": 10,
   "id": "5ebaba88",
   "metadata": {},
   "outputs": [
    {
     "data": {
      "text/plain": [
       "user_id                0\n",
       "date                   0\n",
       "direction              0\n",
       "internal               0\n",
       "operator_id            0\n",
       "is_missed_call         0\n",
       "calls_count            0\n",
       "call_duration          0\n",
       "total_call_duration    0\n",
       "dtype: int64"
      ]
     },
     "execution_count": 10,
     "metadata": {},
     "output_type": "execute_result"
    }
   ],
   "source": [
    "# Eliminar datos de valores ausentes\n",
    "# Remove missing data values\n",
    "data.dropna(subset=['operator_id'], inplace = True)\n",
    "\n",
    "# Reemplezar por `unknown` los valors ausentes de `internal`\n",
    "# Replace missing values in `internal` with `unknown`\n",
    "data['internal'] = data['internal'].fillna('unknown')\n",
    "\n",
    "data.isna().sum()"
   ]
  },
  {
   "cell_type": "code",
   "execution_count": 11,
   "id": "a813d1d0",
   "metadata": {},
   "outputs": [
    {
     "data": {
      "text/plain": [
       "user_id        0\n",
       "tariff_plan    0\n",
       "date_start     0\n",
       "dtype: int64"
      ]
     },
     "execution_count": 11,
     "metadata": {},
     "output_type": "execute_result"
    }
   ],
   "source": [
    "# Verificar si hay valores ausentes en `clients`\n",
    "# Check if there are missing values in `clients`\n",
    "clients.isna().sum()"
   ]
  },
  {
   "cell_type": "markdown",
   "id": "f06649ec",
   "metadata": {},
   "source": [
    "### Valores duplicados / Duplicate values"
   ]
  },
  {
   "cell_type": "code",
   "execution_count": 12,
   "id": "452d3441",
   "metadata": {},
   "outputs": [
    {
     "data": {
      "text/plain": [
       "4184"
      ]
     },
     "execution_count": 12,
     "metadata": {},
     "output_type": "execute_result"
    }
   ],
   "source": [
    "# Verificar si hay duplicados en `data`\n",
    "# Check if there are duplicates in `data`\n",
    "data.duplicated().sum()"
   ]
  },
  {
   "cell_type": "markdown",
   "id": "5e80f843",
   "metadata": {},
   "source": [
    "Hay `4184` valores duplicados, así que se deben eliminar.\n",
    "\n",
    "There are `4184` duplicate values, so they should be removed."
   ]
  },
  {
   "cell_type": "code",
   "execution_count": 13,
   "id": "948d8e43",
   "metadata": {},
   "outputs": [],
   "source": [
    "# Eliminar duplicados\n",
    "# Remove duplicates\n",
    "data.drop_duplicates(inplace = True)"
   ]
  },
  {
   "cell_type": "code",
   "execution_count": 14,
   "id": "aa749ad4",
   "metadata": {},
   "outputs": [
    {
     "data": {
      "text/plain": [
       "0"
      ]
     },
     "execution_count": 14,
     "metadata": {},
     "output_type": "execute_result"
    }
   ],
   "source": [
    "# Verificar si hay duplicados en `clients`\n",
    "# Check for duplicates in `clients`\n",
    "clients.duplicated().sum()"
   ]
  },
  {
   "cell_type": "markdown",
   "id": "ab3edf82",
   "metadata": {},
   "source": [
    "## Identificar operadores ineficaces / Identify ineffective operators"
   ]
  },
  {
   "cell_type": "markdown",
   "id": "d4098ac0",
   "metadata": {},
   "source": [
    "### Llamadas perdidas / Missed calls"
   ]
  },
  {
   "cell_type": "code",
   "execution_count": 15,
   "id": "bed4970e",
   "metadata": {},
   "outputs": [
    {
     "data": {
      "text/html": [
       "<div>\n",
       "<style scoped>\n",
       "    .dataframe tbody tr th:only-of-type {\n",
       "        vertical-align: middle;\n",
       "    }\n",
       "\n",
       "    .dataframe tbody tr th {\n",
       "        vertical-align: top;\n",
       "    }\n",
       "\n",
       "    .dataframe thead th {\n",
       "        text-align: right;\n",
       "    }\n",
       "</style>\n",
       "<table border=\"1\" class=\"dataframe\">\n",
       "  <thead>\n",
       "    <tr style=\"text-align: right;\">\n",
       "      <th></th>\n",
       "      <th>operator_id</th>\n",
       "      <th>total_calls</th>\n",
       "      <th>missed_calls</th>\n",
       "      <th>missed_calls_percentage</th>\n",
       "    </tr>\n",
       "  </thead>\n",
       "  <tbody>\n",
       "    <tr>\n",
       "      <th>641</th>\n",
       "      <td>948756.0</td>\n",
       "      <td>1</td>\n",
       "      <td>1</td>\n",
       "      <td>100</td>\n",
       "    </tr>\n",
       "    <tr>\n",
       "      <th>287</th>\n",
       "      <td>913886.0</td>\n",
       "      <td>2</td>\n",
       "      <td>1</td>\n",
       "      <td>50</td>\n",
       "    </tr>\n",
       "    <tr>\n",
       "      <th>109</th>\n",
       "      <td>897872.0</td>\n",
       "      <td>3</td>\n",
       "      <td>1</td>\n",
       "      <td>33</td>\n",
       "    </tr>\n",
       "    <tr>\n",
       "      <th>467</th>\n",
       "      <td>934098.0</td>\n",
       "      <td>6</td>\n",
       "      <td>2</td>\n",
       "      <td>33</td>\n",
       "    </tr>\n",
       "    <tr>\n",
       "      <th>698</th>\n",
       "      <td>957922.0</td>\n",
       "      <td>3</td>\n",
       "      <td>1</td>\n",
       "      <td>33</td>\n",
       "    </tr>\n",
       "    <tr>\n",
       "      <th>...</th>\n",
       "      <td>...</td>\n",
       "      <td>...</td>\n",
       "      <td>...</td>\n",
       "      <td>...</td>\n",
       "    </tr>\n",
       "    <tr>\n",
       "      <th>293</th>\n",
       "      <td>914170.0</td>\n",
       "      <td>12</td>\n",
       "      <td>0</td>\n",
       "      <td>0</td>\n",
       "    </tr>\n",
       "    <tr>\n",
       "      <th>294</th>\n",
       "      <td>914172.0</td>\n",
       "      <td>6</td>\n",
       "      <td>0</td>\n",
       "      <td>0</td>\n",
       "    </tr>\n",
       "    <tr>\n",
       "      <th>295</th>\n",
       "      <td>914256.0</td>\n",
       "      <td>24</td>\n",
       "      <td>0</td>\n",
       "      <td>0</td>\n",
       "    </tr>\n",
       "    <tr>\n",
       "      <th>296</th>\n",
       "      <td>914426.0</td>\n",
       "      <td>3</td>\n",
       "      <td>0</td>\n",
       "      <td>0</td>\n",
       "    </tr>\n",
       "    <tr>\n",
       "      <th>753</th>\n",
       "      <td>973286.0</td>\n",
       "      <td>2</td>\n",
       "      <td>0</td>\n",
       "      <td>0</td>\n",
       "    </tr>\n",
       "  </tbody>\n",
       "</table>\n",
       "<p>754 rows × 4 columns</p>\n",
       "</div>"
      ],
      "text/plain": [
       "     operator_id  total_calls  missed_calls  missed_calls_percentage\n",
       "641     948756.0            1             1                      100\n",
       "287     913886.0            2             1                       50\n",
       "109     897872.0            3             1                       33\n",
       "467     934098.0            6             2                       33\n",
       "698     957922.0            3             1                       33\n",
       "..           ...          ...           ...                      ...\n",
       "293     914170.0           12             0                        0\n",
       "294     914172.0            6             0                        0\n",
       "295     914256.0           24             0                        0\n",
       "296     914426.0            3             0                        0\n",
       "753     973286.0            2             0                        0\n",
       "\n",
       "[754 rows x 4 columns]"
      ]
     },
     "execution_count": 15,
     "metadata": {},
     "output_type": "execute_result"
    }
   ],
   "source": [
    "# Filtrar por llamadas entrantes \n",
    "# Filter by incoming calls\n",
    "data_in = data[data['direction'] == 'in'].copy()\n",
    "\n",
    "# Llamadas pedidas por operador (internas y externas)\n",
    "# Missed calls by operator (internal and external)\n",
    "missed_calls_by_operator = data_in.groupby('operator_id').agg(total_calls = ('calls_count', 'sum'), missed_calls = ('is_missed_call', 'sum')).reset_index()\n",
    "missed_calls_by_operator['missed_calls_percentage'] = ((missed_calls_by_operator['missed_calls']/missed_calls_by_operator['total_calls'])*100).round(0).astype(int)\n",
    "\n",
    "# Ordenar los operadores por porcentaje de llamadas perdidas\n",
    "# Sort the operators by percentage of missed calls\n",
    "missed_calls_by_operator = missed_calls_by_operator.sort_values('missed_calls_percentage', ascending=False)\n",
    "\n",
    "missed_calls_by_operator"
   ]
  },
  {
   "cell_type": "code",
   "execution_count": 16,
   "id": "b0e71c79",
   "metadata": {},
   "outputs": [
    {
     "data": {
      "text/plain": [
       "1"
      ]
     },
     "execution_count": 16,
     "metadata": {},
     "output_type": "execute_result"
    }
   ],
   "source": [
    "# Promedio llamadas perdidas por operador\n",
    "# Average missed calls per operator\n",
    "avg_missed_calls = missed_calls_by_operator['missed_calls_percentage'].mean().round(0).astype(int)\n",
    "avg_missed_calls"
   ]
  },
  {
   "cell_type": "markdown",
   "id": "2bb343cd",
   "metadata": {},
   "source": [
    "El promedio de llamadas perdidas es `1%`, así que un número de llamadas perdidas mayor a este podría ser un indicador de ineficiencia. \n",
    "\n",
    "The average of missed calls is `1%`, so a higher number of missed calls could be an indicator of inefficiency."
   ]
  },
  {
   "cell_type": "code",
   "execution_count": 17,
   "id": "962122e9",
   "metadata": {},
   "outputs": [
    {
     "data": {
      "image/png": "[encoded data removed]",
      "text/plain": [
       "<Figure size 1000x600 with 1 Axes>"
      ]
     },
     "metadata": {},
     "output_type": "display_data"
    }
   ],
   "source": [
    "# Mostrar los 20 operadores con mayor porcentaje de llamadas perdidas\n",
    "# Show the top 20 operators with the highest percentage of missed calls\n",
    "top_20_operators = missed_calls_by_operator.head(20)\n",
    "\n",
    "# Crear el gráfico de barras\n",
    "# Create the bar chart\n",
    "plt.figure(figsize=(10, 6))\n",
    "sns.barplot(x='operator_id', y='missed_calls_percentage', data=top_20_operators, palette=\"Blues_d\")\n",
    "\n",
    "# Agregar etiquetas\n",
    "# Add labels\n",
    "plt.title('Top 20 Operadores con Mayor Porcentaje de Llamadas Perdidas')\n",
    "plt.xlabel('Operador')\n",
    "plt.ylabel('Porcentaje de Llamadas Perdidas')\n",
    "\n",
    "# Rotar las etiquetas del eje X para mayor legibilidad\n",
    "# Rotate the X-axis labels for better readability\n",
    "plt.xticks(rotation=45)\n",
    "\n",
    "# Mostrar el gráfico\n",
    "# Show the chart\n",
    "plt.tight_layout()\n",
    "plt.show()"
   ]
  },
  {
   "cell_type": "markdown",
   "id": "d1ff3fe8",
   "metadata": {},
   "source": [
    "Hay un operador que sobresale con el `100%` de las llamadas perdidas.\n",
    "\n",
    "There is one operator that stands out with `100%` of missed calls."
   ]
  },
  {
   "cell_type": "markdown",
   "id": "854c415a",
   "metadata": {},
   "source": [
    "### Tiempo de espera prolongados / Long wait times"
   ]
  },
  {
   "cell_type": "code",
   "execution_count": 18,
   "id": "c3880893",
   "metadata": {},
   "outputs": [],
   "source": [
    "# Tiempo de espera para llamadas entrantes\n",
    "# Wait time for incoming calls\n",
    "data_in['waiting_time'] = data_in['total_call_duration'] - data_in['call_duration']"
   ]
  },
  {
   "cell_type": "code",
   "execution_count": 19,
   "id": "3f074738",
   "metadata": {},
   "outputs": [
    {
     "data": {
      "text/html": [
       "<div>\n",
       "<style scoped>\n",
       "    .dataframe tbody tr th:only-of-type {\n",
       "        vertical-align: middle;\n",
       "    }\n",
       "\n",
       "    .dataframe tbody tr th {\n",
       "        vertical-align: top;\n",
       "    }\n",
       "\n",
       "    .dataframe thead th {\n",
       "        text-align: right;\n",
       "    }\n",
       "</style>\n",
       "<table border=\"1\" class=\"dataframe\">\n",
       "  <thead>\n",
       "    <tr style=\"text-align: right;\">\n",
       "      <th></th>\n",
       "      <th>operator_id</th>\n",
       "      <th>avg_waiting_time</th>\n",
       "    </tr>\n",
       "  </thead>\n",
       "  <tbody>\n",
       "    <tr>\n",
       "      <th>337</th>\n",
       "      <td>919794.0</td>\n",
       "      <td>1007.375000</td>\n",
       "    </tr>\n",
       "    <tr>\n",
       "      <th>206</th>\n",
       "      <td>906070.0</td>\n",
       "      <td>889.800000</td>\n",
       "    </tr>\n",
       "    <tr>\n",
       "      <th>335</th>\n",
       "      <td>919790.0</td>\n",
       "      <td>866.803279</td>\n",
       "    </tr>\n",
       "    <tr>\n",
       "      <th>445</th>\n",
       "      <td>931458.0</td>\n",
       "      <td>681.961538</td>\n",
       "    </tr>\n",
       "    <tr>\n",
       "      <th>358</th>\n",
       "      <td>921318.0</td>\n",
       "      <td>615.418182</td>\n",
       "    </tr>\n",
       "    <tr>\n",
       "      <th>...</th>\n",
       "      <td>...</td>\n",
       "      <td>...</td>\n",
       "    </tr>\n",
       "    <tr>\n",
       "      <th>404</th>\n",
       "      <td>926872.0</td>\n",
       "      <td>1.461538</td>\n",
       "    </tr>\n",
       "    <tr>\n",
       "      <th>677</th>\n",
       "      <td>952982.0</td>\n",
       "      <td>1.166667</td>\n",
       "    </tr>\n",
       "    <tr>\n",
       "      <th>636</th>\n",
       "      <td>948282.0</td>\n",
       "      <td>1.000000</td>\n",
       "    </tr>\n",
       "    <tr>\n",
       "      <th>675</th>\n",
       "      <td>952954.0</td>\n",
       "      <td>1.000000</td>\n",
       "    </tr>\n",
       "    <tr>\n",
       "      <th>644</th>\n",
       "      <td>949420.0</td>\n",
       "      <td>1.000000</td>\n",
       "    </tr>\n",
       "  </tbody>\n",
       "</table>\n",
       "<p>754 rows × 2 columns</p>\n",
       "</div>"
      ],
      "text/plain": [
       "     operator_id  avg_waiting_time\n",
       "337     919794.0       1007.375000\n",
       "206     906070.0        889.800000\n",
       "335     919790.0        866.803279\n",
       "445     931458.0        681.961538\n",
       "358     921318.0        615.418182\n",
       "..           ...               ...\n",
       "404     926872.0          1.461538\n",
       "677     952982.0          1.166667\n",
       "636     948282.0          1.000000\n",
       "675     952954.0          1.000000\n",
       "644     949420.0          1.000000\n",
       "\n",
       "[754 rows x 2 columns]"
      ]
     },
     "execution_count": 19,
     "metadata": {},
     "output_type": "execute_result"
    }
   ],
   "source": [
    "# Tiempo de espera para llamadas entrantes por operador\n",
    "# Wait time for incoming calls by operator\n",
    "waiting_time = data_in.groupby('operator_id')['waiting_time'].mean().reset_index()\n",
    "waiting_time = waiting_time.rename(columns = {'waiting_time': 'avg_waiting_time'})\n",
    "\n",
    "# Ordenar por el tiempo promedio de espera\n",
    "# Sort by average wait time\n",
    "waiting_time = waiting_time.sort_values('avg_waiting_time', ascending=False)\n",
    "\n",
    "waiting_time"
   ]
  },
  {
   "cell_type": "code",
   "execution_count": 20,
   "id": "b60eea28",
   "metadata": {},
   "outputs": [
    {
     "data": {
      "text/plain": [
       "58"
      ]
     },
     "execution_count": 20,
     "metadata": {},
     "output_type": "execute_result"
    }
   ],
   "source": [
    "# Tiempo promedio de espera para llamadas entrantes\n",
    "# Average wait time for incoming calls\n",
    "avg_waiting_time = waiting_time['avg_waiting_time'].mean().round(0).astype(int)\n",
    "avg_waiting_time"
   ]
  },
  {
   "cell_type": "markdown",
   "id": "ad5078b0",
   "metadata": {},
   "source": [
    "El tiempo promedo de espera en las llamadas entrantes por operador es de `58`, por lo que un tiempo mayor a este podría ser un indicador de ineficiencia. \n",
    "\n",
    "The average wait time for incoming calls per operator is `58`, so a time greater than this could be an indicator of inefficiency."
   ]
  },
  {
   "cell_type": "code",
   "execution_count": 21,
   "id": "3ddebe8f",
   "metadata": {},
   "outputs": [
    {
     "data": {
      "image/png": "[encoded data removed]",
      "text/plain": [
       "<Figure size 1000x600 with 1 Axes>"
      ]
     },
     "metadata": {},
     "output_type": "display_data"
    }
   ],
   "source": [
    "# Mostrar solo los 20 operadores con mayor tiempo de espera\n",
    "# Show only the top 20 operators with the highest wait time\n",
    "top_20_operators_waiting_time = waiting_time.head(20)\n",
    "\n",
    "# Crear el gráfico de barras\n",
    "# Create the bar chart\n",
    "plt.figure(figsize=(10, 6))\n",
    "sns.barplot(x='operator_id', y='avg_waiting_time', data=top_20_operators_waiting_time, palette=\"Blues_d\")\n",
    "\n",
    "# Agregar etiquetas\n",
    "# Add labels\n",
    "plt.title('Top 20 Operadores con Mayor Tiempo Promedio de Espera')\n",
    "plt.xlabel('Operador')\n",
    "plt.ylabel('Tiempo Promedio de Espera (segundos)')\n",
    "\n",
    "# Rotar las etiquetas del eje X para mayor legibilidad\n",
    "# Rotate the X-axis labels for better readability\n",
    "plt.xticks(rotation=45)\n",
    "\n",
    "# Mostrar el gráfico\n",
    "# Show the chart\n",
    "plt.tight_layout()\n",
    "plt.show()"
   ]
  },
  {
   "cell_type": "markdown",
   "id": "b2fe3d87",
   "metadata": {},
   "source": [
    "Hay `12` operadores con más de 400 segundos en tiempo de espera para llamadas entrantes. \n",
    "\n",
    "There are `12` operators with more than 400 seconds of wait time for incoming calls."
   ]
  },
  {
   "cell_type": "markdown",
   "id": "25271295",
   "metadata": {},
   "source": [
    "### Llamadas salientes / Outgoing calls"
   ]
  },
  {
   "cell_type": "code",
   "execution_count": 22,
   "id": "97db5281",
   "metadata": {},
   "outputs": [
    {
     "data": {
      "text/html": [
       "<div>\n",
       "<style scoped>\n",
       "    .dataframe tbody tr th:only-of-type {\n",
       "        vertical-align: middle;\n",
       "    }\n",
       "\n",
       "    .dataframe tbody tr th {\n",
       "        vertical-align: top;\n",
       "    }\n",
       "\n",
       "    .dataframe thead th {\n",
       "        text-align: right;\n",
       "    }\n",
       "</style>\n",
       "<table border=\"1\" class=\"dataframe\">\n",
       "  <thead>\n",
       "    <tr style=\"text-align: right;\">\n",
       "      <th></th>\n",
       "      <th>operator_id</th>\n",
       "      <th>total_outgoing_calls</th>\n",
       "    </tr>\n",
       "  </thead>\n",
       "  <tbody>\n",
       "    <tr>\n",
       "      <th>25</th>\n",
       "      <td>885890.0</td>\n",
       "      <td>58977</td>\n",
       "    </tr>\n",
       "    <tr>\n",
       "      <th>24</th>\n",
       "      <td>885876.0</td>\n",
       "      <td>58437</td>\n",
       "    </tr>\n",
       "    <tr>\n",
       "      <th>466</th>\n",
       "      <td>929428.0</td>\n",
       "      <td>23754</td>\n",
       "    </tr>\n",
       "    <tr>\n",
       "      <th>446</th>\n",
       "      <td>925922.0</td>\n",
       "      <td>19603</td>\n",
       "    </tr>\n",
       "    <tr>\n",
       "      <th>255</th>\n",
       "      <td>908640.0</td>\n",
       "      <td>14239</td>\n",
       "    </tr>\n",
       "    <tr>\n",
       "      <th>...</th>\n",
       "      <td>...</td>\n",
       "      <td>...</td>\n",
       "    </tr>\n",
       "    <tr>\n",
       "      <th>553</th>\n",
       "      <td>937770.0</td>\n",
       "      <td>1</td>\n",
       "    </tr>\n",
       "    <tr>\n",
       "      <th>554</th>\n",
       "      <td>937772.0</td>\n",
       "      <td>1</td>\n",
       "    </tr>\n",
       "    <tr>\n",
       "      <th>556</th>\n",
       "      <td>937778.0</td>\n",
       "      <td>1</td>\n",
       "    </tr>\n",
       "    <tr>\n",
       "      <th>200</th>\n",
       "      <td>905480.0</td>\n",
       "      <td>1</td>\n",
       "    </tr>\n",
       "    <tr>\n",
       "      <th>775</th>\n",
       "      <td>952968.0</td>\n",
       "      <td>1</td>\n",
       "    </tr>\n",
       "  </tbody>\n",
       "</table>\n",
       "<p>882 rows × 2 columns</p>\n",
       "</div>"
      ],
      "text/plain": [
       "     operator_id  total_outgoing_calls\n",
       "25      885890.0                 58977\n",
       "24      885876.0                 58437\n",
       "466     929428.0                 23754\n",
       "446     925922.0                 19603\n",
       "255     908640.0                 14239\n",
       "..           ...                   ...\n",
       "553     937770.0                     1\n",
       "554     937772.0                     1\n",
       "556     937778.0                     1\n",
       "200     905480.0                     1\n",
       "775     952968.0                     1\n",
       "\n",
       "[882 rows x 2 columns]"
      ]
     },
     "execution_count": 22,
     "metadata": {},
     "output_type": "execute_result"
    }
   ],
   "source": [
    "# Filtrar por llamadas salientes\n",
    "# Filter by outgoing calls\n",
    "data_out = data[data['direction'] == 'out'].copy()\n",
    "\n",
    "# Llamadas salientes por operador\n",
    "# Outgoing calls by operator\n",
    "outgoing_calls_by_operator = data_out.groupby('operator_id')['calls_count'].sum().reset_index()\n",
    "outgoing_calls_by_operator = outgoing_calls_by_operator.rename(columns = {'calls_count':'total_outgoing_calls'})\n",
    "\n",
    "# Ordenar por el número de llamadas salientes\n",
    "# Sort by the number of outgoing calls\n",
    "outgoing_calls_by_operator = outgoing_calls_by_operator.sort_values('total_outgoing_calls', ascending=False)\n",
    "\n",
    "outgoing_calls_by_operator"
   ]
  },
  {
   "cell_type": "code",
   "execution_count": 23,
   "id": "348bb26f",
   "metadata": {},
   "outputs": [
    {
     "data": {
      "text/plain": [
       "690"
      ]
     },
     "execution_count": 23,
     "metadata": {},
     "output_type": "execute_result"
    }
   ],
   "source": [
    "# Promedio de llamadas salientes por operador\n",
    "# Average number of outgoing calls per operator\n",
    "avg_out_calls = outgoing_calls_by_operator['total_outgoing_calls'].mean().round(0).astype(int)\n",
    "avg_out_calls"
   ]
  },
  {
   "cell_type": "markdown",
   "id": "b3489c55",
   "metadata": {},
   "source": [
    "El promedo de llamadas salientes por operador es de `690`, por lo que un número inferior a este podría ser un indicador de ineficiencia.\n",
    "\n",
    "The average number of outgoing calls per operator is `690`, so a number lower than this could be an indicator of inefficiency."
   ]
  },
  {
   "cell_type": "code",
   "execution_count": 24,
   "id": "bfb3d0f4",
   "metadata": {},
   "outputs": [
    {
     "data": {
      "image/png": "[encoded data removed]",
      "text/plain": [
       "<Figure size 1000x600 with 1 Axes>"
      ]
     },
     "metadata": {},
     "output_type": "display_data"
    }
   ],
   "source": [
    "# Mostrar solo los 20 operadores con más llamadas salientes\n",
    "# Show only the top 20 operators with the most outgoing calls\n",
    "top_20_operators_outgoing_calls = outgoing_calls_by_operator.head(20)\n",
    "\n",
    "# Crear el gráfico de barras\n",
    "# Create the bar chart\n",
    "plt.figure(figsize=(10, 6))\n",
    "sns.barplot(x='operator_id', y='total_outgoing_calls', data=top_20_operators_outgoing_calls, palette=\"viridis\")\n",
    "\n",
    "# Agregar etiquetas\n",
    "# Add labels\n",
    "plt.title('Top 20 Operadores con Más Llamadas Salientes')\n",
    "plt.xlabel('Operador')\n",
    "plt.ylabel('Número de Llamadas Salientes')\n",
    "\n",
    "# Rotar las etiquetas del eje X para mayor legibilidad\n",
    "# Rotate the X-axis labels for better readability\n",
    "plt.xticks(rotation=45)\n",
    "\n",
    "# Mostrar el gráfico\n",
    "# Show the chart\n",
    "plt.tight_layout()\n",
    "plt.show()"
   ]
  },
  {
   "cell_type": "markdown",
   "id": "92ac5c29",
   "metadata": {},
   "source": [
    "Hay 2 operadores que tienen casi `6000` llamadas salientes.\n",
    "\n",
    "There are 2 operators who have almost `6000` outgoing calls."
   ]
  },
  {
   "cell_type": "markdown",
   "id": "5e50defd",
   "metadata": {},
   "source": [
    "### Operadores ineficaces / Ineffective operators"
   ]
  },
  {
   "cell_type": "code",
   "execution_count": 25,
   "id": "3695c68d",
   "metadata": {},
   "outputs": [],
   "source": [
    "# Unir los dataframes\n",
    "# Join dataframes\n",
    "operator_metrics = missed_calls_by_operator.merge(waiting_time, on = 'operator_id')\n",
    "operator_metrics = operator_metrics.merge(outgoing_calls_by_operator, on = 'operator_id')"
   ]
  },
  {
   "cell_type": "code",
   "execution_count": 26,
   "id": "51cbffcc",
   "metadata": {},
   "outputs": [
    {
     "data": {
      "text/html": [
       "<div>\n",
       "<style scoped>\n",
       "    .dataframe tbody tr th:only-of-type {\n",
       "        vertical-align: middle;\n",
       "    }\n",
       "\n",
       "    .dataframe tbody tr th {\n",
       "        vertical-align: top;\n",
       "    }\n",
       "\n",
       "    .dataframe thead th {\n",
       "        text-align: right;\n",
       "    }\n",
       "</style>\n",
       "<table border=\"1\" class=\"dataframe\">\n",
       "  <thead>\n",
       "    <tr style=\"text-align: right;\">\n",
       "      <th></th>\n",
       "      <th>operator_id</th>\n",
       "      <th>total_calls</th>\n",
       "      <th>missed_calls</th>\n",
       "      <th>missed_calls_percentage</th>\n",
       "      <th>avg_waiting_time</th>\n",
       "      <th>total_outgoing_calls</th>\n",
       "      <th>ineffective</th>\n",
       "    </tr>\n",
       "  </thead>\n",
       "  <tbody>\n",
       "    <tr>\n",
       "      <th>0</th>\n",
       "      <td>948756.0</td>\n",
       "      <td>1</td>\n",
       "      <td>1</td>\n",
       "      <td>100</td>\n",
       "      <td>8.000000</td>\n",
       "      <td>170</td>\n",
       "      <td>False</td>\n",
       "    </tr>\n",
       "    <tr>\n",
       "      <th>1</th>\n",
       "      <td>897872.0</td>\n",
       "      <td>3</td>\n",
       "      <td>1</td>\n",
       "      <td>33</td>\n",
       "      <td>21.666667</td>\n",
       "      <td>49</td>\n",
       "      <td>False</td>\n",
       "    </tr>\n",
       "    <tr>\n",
       "      <th>2</th>\n",
       "      <td>957922.0</td>\n",
       "      <td>3</td>\n",
       "      <td>1</td>\n",
       "      <td>33</td>\n",
       "      <td>13.000000</td>\n",
       "      <td>16</td>\n",
       "      <td>False</td>\n",
       "    </tr>\n",
       "    <tr>\n",
       "      <th>3</th>\n",
       "      <td>937432.0</td>\n",
       "      <td>3</td>\n",
       "      <td>1</td>\n",
       "      <td>33</td>\n",
       "      <td>12.000000</td>\n",
       "      <td>19</td>\n",
       "      <td>False</td>\n",
       "    </tr>\n",
       "    <tr>\n",
       "      <th>4</th>\n",
       "      <td>894232.0</td>\n",
       "      <td>4</td>\n",
       "      <td>1</td>\n",
       "      <td>25</td>\n",
       "      <td>14.333333</td>\n",
       "      <td>16</td>\n",
       "      <td>False</td>\n",
       "    </tr>\n",
       "    <tr>\n",
       "      <th>...</th>\n",
       "      <td>...</td>\n",
       "      <td>...</td>\n",
       "      <td>...</td>\n",
       "      <td>...</td>\n",
       "      <td>...</td>\n",
       "      <td>...</td>\n",
       "      <td>...</td>\n",
       "    </tr>\n",
       "    <tr>\n",
       "      <th>539</th>\n",
       "      <td>914050.0</td>\n",
       "      <td>12</td>\n",
       "      <td>0</td>\n",
       "      <td>0</td>\n",
       "      <td>10.200000</td>\n",
       "      <td>387</td>\n",
       "      <td>False</td>\n",
       "    </tr>\n",
       "    <tr>\n",
       "      <th>540</th>\n",
       "      <td>914168.0</td>\n",
       "      <td>1</td>\n",
       "      <td>0</td>\n",
       "      <td>0</td>\n",
       "      <td>11.000000</td>\n",
       "      <td>10</td>\n",
       "      <td>False</td>\n",
       "    </tr>\n",
       "    <tr>\n",
       "      <th>541</th>\n",
       "      <td>914170.0</td>\n",
       "      <td>12</td>\n",
       "      <td>0</td>\n",
       "      <td>0</td>\n",
       "      <td>28.600000</td>\n",
       "      <td>4</td>\n",
       "      <td>False</td>\n",
       "    </tr>\n",
       "    <tr>\n",
       "      <th>542</th>\n",
       "      <td>914256.0</td>\n",
       "      <td>24</td>\n",
       "      <td>0</td>\n",
       "      <td>0</td>\n",
       "      <td>24.533333</td>\n",
       "      <td>1</td>\n",
       "      <td>False</td>\n",
       "    </tr>\n",
       "    <tr>\n",
       "      <th>543</th>\n",
       "      <td>914426.0</td>\n",
       "      <td>3</td>\n",
       "      <td>0</td>\n",
       "      <td>0</td>\n",
       "      <td>23.000000</td>\n",
       "      <td>4</td>\n",
       "      <td>False</td>\n",
       "    </tr>\n",
       "  </tbody>\n",
       "</table>\n",
       "<p>544 rows × 7 columns</p>\n",
       "</div>"
      ],
      "text/plain": [
       "     operator_id  total_calls  missed_calls  missed_calls_percentage  \\\n",
       "0       948756.0            1             1                      100   \n",
       "1       897872.0            3             1                       33   \n",
       "2       957922.0            3             1                       33   \n",
       "3       937432.0            3             1                       33   \n",
       "4       894232.0            4             1                       25   \n",
       "..           ...          ...           ...                      ...   \n",
       "539     914050.0           12             0                        0   \n",
       "540     914168.0            1             0                        0   \n",
       "541     914170.0           12             0                        0   \n",
       "542     914256.0           24             0                        0   \n",
       "543     914426.0            3             0                        0   \n",
       "\n",
       "     avg_waiting_time  total_outgoing_calls  ineffective  \n",
       "0            8.000000                   170        False  \n",
       "1           21.666667                    49        False  \n",
       "2           13.000000                    16        False  \n",
       "3           12.000000                    19        False  \n",
       "4           14.333333                    16        False  \n",
       "..                ...                   ...          ...  \n",
       "539         10.200000                   387        False  \n",
       "540         11.000000                    10        False  \n",
       "541         28.600000                     4        False  \n",
       "542         24.533333                     1        False  \n",
       "543         23.000000                     4        False  \n",
       "\n",
       "[544 rows x 7 columns]"
      ]
     },
     "execution_count": 26,
     "metadata": {},
     "output_type": "execute_result"
    }
   ],
   "source": [
    "# Establecer umbrales\n",
    "# Establishing thresholds\n",
    "threshold_missed_calls = 1\n",
    "threshold_waiting_time = 58\n",
    "threshold_avg_out_calls = 690\n",
    "\n",
    "# Identificar operadores ineficaces\n",
    "# Identify inefficient operators\n",
    "operator_metrics['ineffective'] = ((operator_metrics['missed_calls_percentage'] > threshold_missed_calls) & \n",
    "                       (operator_metrics['avg_waiting_time'] > threshold_waiting_time) &\n",
    "                      (operator_metrics['total_outgoing_calls'] < threshold_avg_out_calls))\n",
    "operator_metrics"
   ]
  },
  {
   "cell_type": "code",
   "execution_count": 27,
   "id": "3ec20f88",
   "metadata": {},
   "outputs": [
    {
     "data": {
      "text/html": [
       "<div>\n",
       "<style scoped>\n",
       "    .dataframe tbody tr th:only-of-type {\n",
       "        vertical-align: middle;\n",
       "    }\n",
       "\n",
       "    .dataframe tbody tr th {\n",
       "        vertical-align: top;\n",
       "    }\n",
       "\n",
       "    .dataframe thead th {\n",
       "        text-align: right;\n",
       "    }\n",
       "</style>\n",
       "<table border=\"1\" class=\"dataframe\">\n",
       "  <thead>\n",
       "    <tr style=\"text-align: right;\">\n",
       "      <th></th>\n",
       "      <th>index</th>\n",
       "      <th>operator_id</th>\n",
       "      <th>total_calls</th>\n",
       "      <th>missed_calls</th>\n",
       "      <th>missed_calls_percentage</th>\n",
       "      <th>avg_waiting_time</th>\n",
       "      <th>total_outgoing_calls</th>\n",
       "      <th>ineffective</th>\n",
       "    </tr>\n",
       "  </thead>\n",
       "  <tbody>\n",
       "    <tr>\n",
       "      <th>0</th>\n",
       "      <td>21</td>\n",
       "      <td>884408.0</td>\n",
       "      <td>35</td>\n",
       "      <td>3</td>\n",
       "      <td>9</td>\n",
       "      <td>66.000000</td>\n",
       "      <td>25</td>\n",
       "      <td>True</td>\n",
       "    </tr>\n",
       "    <tr>\n",
       "      <th>1</th>\n",
       "      <td>23</td>\n",
       "      <td>944226.0</td>\n",
       "      <td>180</td>\n",
       "      <td>14</td>\n",
       "      <td>8</td>\n",
       "      <td>153.580000</td>\n",
       "      <td>109</td>\n",
       "      <td>True</td>\n",
       "    </tr>\n",
       "    <tr>\n",
       "      <th>2</th>\n",
       "      <td>30</td>\n",
       "      <td>944216.0</td>\n",
       "      <td>235</td>\n",
       "      <td>16</td>\n",
       "      <td>7</td>\n",
       "      <td>160.923077</td>\n",
       "      <td>133</td>\n",
       "      <td>True</td>\n",
       "    </tr>\n",
       "    <tr>\n",
       "      <th>3</th>\n",
       "      <td>34</td>\n",
       "      <td>944222.0</td>\n",
       "      <td>185</td>\n",
       "      <td>11</td>\n",
       "      <td>6</td>\n",
       "      <td>139.266667</td>\n",
       "      <td>344</td>\n",
       "      <td>True</td>\n",
       "    </tr>\n",
       "    <tr>\n",
       "      <th>4</th>\n",
       "      <td>35</td>\n",
       "      <td>944220.0</td>\n",
       "      <td>265</td>\n",
       "      <td>12</td>\n",
       "      <td>5</td>\n",
       "      <td>187.411765</td>\n",
       "      <td>221</td>\n",
       "      <td>True</td>\n",
       "    </tr>\n",
       "    <tr>\n",
       "      <th>5</th>\n",
       "      <td>37</td>\n",
       "      <td>945046.0</td>\n",
       "      <td>60</td>\n",
       "      <td>3</td>\n",
       "      <td>5</td>\n",
       "      <td>81.923077</td>\n",
       "      <td>29</td>\n",
       "      <td>True</td>\n",
       "    </tr>\n",
       "    <tr>\n",
       "      <th>6</th>\n",
       "      <td>46</td>\n",
       "      <td>920706.0</td>\n",
       "      <td>68</td>\n",
       "      <td>3</td>\n",
       "      <td>4</td>\n",
       "      <td>60.222222</td>\n",
       "      <td>140</td>\n",
       "      <td>True</td>\n",
       "    </tr>\n",
       "    <tr>\n",
       "      <th>7</th>\n",
       "      <td>47</td>\n",
       "      <td>898414.0</td>\n",
       "      <td>24</td>\n",
       "      <td>1</td>\n",
       "      <td>4</td>\n",
       "      <td>86.000000</td>\n",
       "      <td>59</td>\n",
       "      <td>True</td>\n",
       "    </tr>\n",
       "    <tr>\n",
       "      <th>8</th>\n",
       "      <td>48</td>\n",
       "      <td>944218.0</td>\n",
       "      <td>245</td>\n",
       "      <td>11</td>\n",
       "      <td>4</td>\n",
       "      <td>187.416667</td>\n",
       "      <td>164</td>\n",
       "      <td>True</td>\n",
       "    </tr>\n",
       "    <tr>\n",
       "      <th>9</th>\n",
       "      <td>50</td>\n",
       "      <td>958434.0</td>\n",
       "      <td>23</td>\n",
       "      <td>1</td>\n",
       "      <td>4</td>\n",
       "      <td>81.090909</td>\n",
       "      <td>138</td>\n",
       "      <td>True</td>\n",
       "    </tr>\n",
       "    <tr>\n",
       "      <th>10</th>\n",
       "      <td>54</td>\n",
       "      <td>951508.0</td>\n",
       "      <td>336</td>\n",
       "      <td>10</td>\n",
       "      <td>3</td>\n",
       "      <td>192.909091</td>\n",
       "      <td>146</td>\n",
       "      <td>True</td>\n",
       "    </tr>\n",
       "    <tr>\n",
       "      <th>11</th>\n",
       "      <td>56</td>\n",
       "      <td>924928.0</td>\n",
       "      <td>30</td>\n",
       "      <td>1</td>\n",
       "      <td>3</td>\n",
       "      <td>65.200000</td>\n",
       "      <td>49</td>\n",
       "      <td>True</td>\n",
       "    </tr>\n",
       "    <tr>\n",
       "      <th>12</th>\n",
       "      <td>61</td>\n",
       "      <td>958460.0</td>\n",
       "      <td>103</td>\n",
       "      <td>3</td>\n",
       "      <td>3</td>\n",
       "      <td>319.625000</td>\n",
       "      <td>112</td>\n",
       "      <td>True</td>\n",
       "    </tr>\n",
       "    <tr>\n",
       "      <th>13</th>\n",
       "      <td>66</td>\n",
       "      <td>906400.0</td>\n",
       "      <td>130</td>\n",
       "      <td>3</td>\n",
       "      <td>2</td>\n",
       "      <td>93.800000</td>\n",
       "      <td>426</td>\n",
       "      <td>True</td>\n",
       "    </tr>\n",
       "    <tr>\n",
       "      <th>14</th>\n",
       "      <td>70</td>\n",
       "      <td>906410.0</td>\n",
       "      <td>232</td>\n",
       "      <td>5</td>\n",
       "      <td>2</td>\n",
       "      <td>177.500000</td>\n",
       "      <td>19</td>\n",
       "      <td>True</td>\n",
       "    </tr>\n",
       "    <tr>\n",
       "      <th>15</th>\n",
       "      <td>71</td>\n",
       "      <td>920902.0</td>\n",
       "      <td>48</td>\n",
       "      <td>1</td>\n",
       "      <td>2</td>\n",
       "      <td>88.583333</td>\n",
       "      <td>17</td>\n",
       "      <td>True</td>\n",
       "    </tr>\n",
       "    <tr>\n",
       "      <th>16</th>\n",
       "      <td>76</td>\n",
       "      <td>906396.0</td>\n",
       "      <td>124</td>\n",
       "      <td>3</td>\n",
       "      <td>2</td>\n",
       "      <td>111.088235</td>\n",
       "      <td>415</td>\n",
       "      <td>True</td>\n",
       "    </tr>\n",
       "    <tr>\n",
       "      <th>17</th>\n",
       "      <td>78</td>\n",
       "      <td>937732.0</td>\n",
       "      <td>116</td>\n",
       "      <td>2</td>\n",
       "      <td>2</td>\n",
       "      <td>60.176471</td>\n",
       "      <td>191</td>\n",
       "      <td>True</td>\n",
       "    </tr>\n",
       "    <tr>\n",
       "      <th>18</th>\n",
       "      <td>81</td>\n",
       "      <td>938414.0</td>\n",
       "      <td>93</td>\n",
       "      <td>2</td>\n",
       "      <td>2</td>\n",
       "      <td>238.555556</td>\n",
       "      <td>46</td>\n",
       "      <td>True</td>\n",
       "    </tr>\n",
       "    <tr>\n",
       "      <th>19</th>\n",
       "      <td>84</td>\n",
       "      <td>945052.0</td>\n",
       "      <td>59</td>\n",
       "      <td>1</td>\n",
       "      <td>2</td>\n",
       "      <td>82.888889</td>\n",
       "      <td>16</td>\n",
       "      <td>True</td>\n",
       "    </tr>\n",
       "    <tr>\n",
       "      <th>20</th>\n",
       "      <td>89</td>\n",
       "      <td>905104.0</td>\n",
       "      <td>296</td>\n",
       "      <td>6</td>\n",
       "      <td>2</td>\n",
       "      <td>81.126984</td>\n",
       "      <td>187</td>\n",
       "      <td>True</td>\n",
       "    </tr>\n",
       "    <tr>\n",
       "      <th>21</th>\n",
       "      <td>90</td>\n",
       "      <td>906408.0</td>\n",
       "      <td>241</td>\n",
       "      <td>4</td>\n",
       "      <td>2</td>\n",
       "      <td>246.857143</td>\n",
       "      <td>87</td>\n",
       "      <td>True</td>\n",
       "    </tr>\n",
       "    <tr>\n",
       "      <th>22</th>\n",
       "      <td>93</td>\n",
       "      <td>923528.0</td>\n",
       "      <td>119</td>\n",
       "      <td>2</td>\n",
       "      <td>2</td>\n",
       "      <td>59.937500</td>\n",
       "      <td>638</td>\n",
       "      <td>True</td>\n",
       "    </tr>\n",
       "    <tr>\n",
       "      <th>23</th>\n",
       "      <td>95</td>\n",
       "      <td>960620.0</td>\n",
       "      <td>50</td>\n",
       "      <td>1</td>\n",
       "      <td>2</td>\n",
       "      <td>74.800000</td>\n",
       "      <td>58</td>\n",
       "      <td>True</td>\n",
       "    </tr>\n",
       "  </tbody>\n",
       "</table>\n",
       "</div>"
      ],
      "text/plain": [
       "    index  operator_id  total_calls  missed_calls  missed_calls_percentage  \\\n",
       "0      21     884408.0           35             3                        9   \n",
       "1      23     944226.0          180            14                        8   \n",
       "2      30     944216.0          235            16                        7   \n",
       "3      34     944222.0          185            11                        6   \n",
       "4      35     944220.0          265            12                        5   \n",
       "5      37     945046.0           60             3                        5   \n",
       "6      46     920706.0           68             3                        4   \n",
       "7      47     898414.0           24             1                        4   \n",
       "8      48     944218.0          245            11                        4   \n",
       "9      50     958434.0           23             1                        4   \n",
       "10     54     951508.0          336            10                        3   \n",
       "11     56     924928.0           30             1                        3   \n",
       "12     61     958460.0          103             3                        3   \n",
       "13     66     906400.0          130             3                        2   \n",
       "14     70     906410.0          232             5                        2   \n",
       "15     71     920902.0           48             1                        2   \n",
       "16     76     906396.0          124             3                        2   \n",
       "17     78     937732.0          116             2                        2   \n",
       "18     81     938414.0           93             2                        2   \n",
       "19     84     945052.0           59             1                        2   \n",
       "20     89     905104.0          296             6                        2   \n",
       "21     90     906408.0          241             4                        2   \n",
       "22     93     923528.0          119             2                        2   \n",
       "23     95     960620.0           50             1                        2   \n",
       "\n",
       "    avg_waiting_time  total_outgoing_calls  ineffective  \n",
       "0          66.000000                    25         True  \n",
       "1         153.580000                   109         True  \n",
       "2         160.923077                   133         True  \n",
       "3         139.266667                   344         True  \n",
       "4         187.411765                   221         True  \n",
       "5          81.923077                    29         True  \n",
       "6          60.222222                   140         True  \n",
       "7          86.000000                    59         True  \n",
       "8         187.416667                   164         True  \n",
       "9          81.090909                   138         True  \n",
       "10        192.909091                   146         True  \n",
       "11         65.200000                    49         True  \n",
       "12        319.625000                   112         True  \n",
       "13         93.800000                   426         True  \n",
       "14        177.500000                    19         True  \n",
       "15         88.583333                    17         True  \n",
       "16        111.088235                   415         True  \n",
       "17         60.176471                   191         True  \n",
       "18        238.555556                    46         True  \n",
       "19         82.888889                    16         True  \n",
       "20         81.126984                   187         True  \n",
       "21        246.857143                    87         True  \n",
       "22         59.937500                   638         True  \n",
       "23         74.800000                    58         True  "
      ]
     },
     "execution_count": 27,
     "metadata": {},
     "output_type": "execute_result"
    }
   ],
   "source": [
    "# Operadores ineficaces\n",
    "# Inefficient operators\n",
    "ineffective_operators = operator_metrics[operator_metrics['ineffective'] == True].reset_index()\n",
    "ineffective_operators"
   ]
  },
  {
   "cell_type": "markdown",
   "id": "74f6fa92",
   "metadata": {},
   "source": [
    "De acuerdo a las metricas establecidas hay `24` operadores ineficaces porque tienen más de `1%` llamadas perdidas, más de `58` minutos de espera en las llamadas entrantes y menos de `690` llamadas salientes.\n",
    "\n",
    "According to established metrics there are `24` inefficient operators because they have more than `1%` dropped calls, more than `58` minutes on hold on incoming calls and less than `690` outgoing calls."
   ]
  },
  {
   "cell_type": "markdown",
   "id": "ef28bcdb",
   "metadata": {},
   "source": [
    "### Cantidad de operadores ineficaces / Number of inefficient operators"
   ]
  },
  {
   "cell_type": "code",
   "execution_count": 28,
   "id": "91ed57aa",
   "metadata": {},
   "outputs": [
    {
     "data": {
      "text/plain": [
       "4.41"
      ]
     },
     "execution_count": 28,
     "metadata": {},
     "output_type": "execute_result"
    }
   ],
   "source": [
    "# Contar cuántos operadores son ineficaces\n",
    "# Count how many operators are inefficient\n",
    "ineffective_count = operator_metrics['ineffective'].sum()\n",
    "\n",
    "# Contar el total de operadores\n",
    "# Counting the total number of operators\n",
    "total_operators = operator_metrics['operator_id'].nunique()\n",
    "\n",
    "# Calcular el porcentaje de operadores ineficaces\n",
    "# Calculate the percentage of inefficient operators\n",
    "percentage_ineffective_operators = ((ineffective_count / total_operators) * 100).round(2)\n",
    "percentage_ineffective_operators"
   ]
  },
  {
   "cell_type": "code",
   "execution_count": 29,
   "id": "62f032d6",
   "metadata": {},
   "outputs": [
    {
     "data": {
      "image/png": "[encoded data removed]",
      "text/plain": [
       "<Figure size 640x480 with 1 Axes>"
      ]
     },
     "metadata": {},
     "output_type": "display_data"
    }
   ],
   "source": [
    "# Contar cuántos operadores son ineficaces y cuántos son eficaces\n",
    "# Counting how many operators are ineffective and how many are effective\n",
    "ineffective_count = operator_metrics['ineffective'].value_counts()\n",
    "\n",
    "# Crear gráfico de barras\n",
    "# Create bar chart\n",
    "sns.barplot(x=ineffective_count.index, y=ineffective_count.values, palette=\"Reds\")\n",
    "plt.title('Operadores ineficaces vs. eficaces')\n",
    "plt.xlabel('Ineficaz (True/False)')\n",
    "plt.ylabel('Cantidad de Operadores')\n",
    "plt.xticks(ticks=[0, 1], labels=['Eficaz', 'Ineficaz'])\n",
    "plt.show()"
   ]
  },
  {
   "cell_type": "markdown",
   "id": "1f059d17",
   "metadata": {},
   "source": [
    "Como se puede observar, solo el `4.4%` de los operadores son ineficaces.\n",
    "\n",
    "As can be seen, only `4.4%` of the operators are ineffective."
   ]
  },
  {
   "cell_type": "markdown",
   "id": "9f2c3254",
   "metadata": {},
   "source": [
    "## Prueba de hipótesis / Hypothesis testing"
   ]
  },
  {
   "cell_type": "markdown",
   "id": "0f7e59ed",
   "metadata": {},
   "source": [
    "Hipótesis: Los operadores con un mayor número de llamadas perdidas tienen tiempos de espera más largos.\n",
    "\n",
    "Hypothesis: Operators with a higher number of dropped calls have longer waiting times."
   ]
  },
  {
   "cell_type": "code",
   "execution_count": 31,
   "id": "4f8e6a56",
   "metadata": {},
   "outputs": [
    {
     "name": "stdout",
     "output_type": "stream",
     "text": [
      "Coeficiente de correlación: 0.04895804232208174\n",
      "Valor p: 0.2543092071406952\n",
      "No hay una relación significativa entre el número de llamadas perdidas y el tiempo de espera.\n"
     ]
    }
   ],
   "source": [
    "# Cálculo del coeficiente de correlación de Pearson\n",
    "# Calculation of Pearson's correlation coefficient\n",
    "corr, p_value = pearsonr(operator_metrics['total_outgoing_calls'], operator_metrics['avg_waiting_time'])\n",
    "print(f\"Coeficiente de correlación: {corr}\")\n",
    "print(f\"Valor p: {p_value}\")\n",
    "\n",
    "# Interpretación del valor p\n",
    "# Interpretation of the p-value\n",
    "if p_value < 0.05:\n",
    "    print(\"Existe una relación significativa entre el número de llamadas perdidas y el tiempo de espera.\")\n",
    "else:\n",
    "    print(\"No hay una relación significativa entre el número de llamadas perdidas y el tiempo de espera.\")"
   ]
  },
  {
   "cell_type": "markdown",
   "id": "55784d24",
   "metadata": {},
   "source": [
    "## Conclusiones y recomendaciones / Conclusions and recommendations"
   ]
  },
  {
   "cell_type": "markdown",
   "id": "c1c93236",
   "metadata": {},
   "source": [
    "**Conclusiones / Conclusions:**\n",
    "\n",
    "1. Llamadas perdidas (1%):\n",
    "- El promedio de llamadas perdidas por operador es bajo (`1%`), lo que indica que la mayoría de los operadores están respondiendo a las llamadas entrantes. \n",
    "   \n",
    "2. Tiempo de espera para llamadas entrantes (58 segundos):\n",
    "- El tiempo promedio de espera de `58 segundos` es un valor relativamente alto. Este indicador puede reflejar que los operadores no están atendiendo las llamadas con la rapidez esperada, lo cual podría generar insatisfacción entre los clientes.\n",
    "   \n",
    "3. Promedio de llamadas salientes (15 llamadas por operador):\n",
    "- El promedio de llamadas salientes por operador (`15`) es un valor razonable, pero depende del contexto del negocio. Si los operadores tienen la responsabilidad de hacer llamadas salientes como parte de su trabajo, este valor podría indicar que no están cumpliendo con las expectativas. Si el negocio se enfoca más en llamadas entrantes, entonces este número podría ser adecuado.\n",
    "   \n",
    "4. Porcentaje de operadores ineficaces (4.4%):\n",
    "- El `4.4%`1 de los operadores son considerados ineficaces según los umbrales establecidos. Aunque este porcentaje es relativamente bajo, indica que hay un pequeño grupo de operadores que no están cumpliendo con las expectativas en términos de llamadas perdidas, tiempos de espera y llamadas salientes. Esto podría sugerir la necesidad de capacitación o un cambio en la asignación de tareas o recursos.\n",
    "\n",
    "---\n",
    "\n",
    "1. Missed calls (1%):\n",
    "- The average number of missed calls per operator is low (`1%`), indicating that most operators are answering incoming calls. \n",
    "   \n",
    "2. Waiting time for incoming calls (58 seconds):\n",
    "- The average waiting time of `58 seconds` is a relatively high value. This indicator may reflect that operators are not answering calls as quickly as expected, which could lead to customer dissatisfaction.\n",
    "   \n",
    "3. Average number of outgoing calls (15 calls per operator):\n",
    "- The average number of outbound calls per operator (`15`) is a reasonable value, but it depends on the business context. If operators are responsible for making outbound calls as part of their job, this value may indicate that they are not meeting expectations. If the business is more focused on inbound calls, then this number may be appropriate.\n",
    "   \n",
    "4. Percentage of ineffective operators (4.4%):\n",
    "- `4.4%`1 of operators are considered ineffective according to established thresholds. Although this percentage is relatively low, it indicates that there is a small group of operators who are not meeting expectations in terms of dropped calls, wait times, and outbound calls. This could suggest the need for training or a change in task or resource allocation.\n",
    "\n",
    "**Recomendaciones / Recommendations:**\n",
    "\n",
    "1. Mejorar la rapidez de respuesta a llamadas entrantes: Reducción del tiempo de espera.\n",
    "   \n",
    "2. Revisar los operadores ineficaces: \n",
    "- Considerar la implementación de un plan de capacitación para los operadores ineficaces, con el objetivo de mejorar su rendimiento en términos de manejo de llamadas y tiempos de espera. Identificar las causas que los llevan a ser ineficaces y abordar posibles problemas de carga de trabajo o falta de motivación.\n",
    "- Si ciertos operadores están constantemente sobrecargados con llamadas entrantes, podría ser útil redistribuir la carga de trabajo de manera más equitativa entre los operadores.\n",
    "\n",
    "3. Evaluar la efectividad de las llamadas salientes: Si las llamadas salientes son una parte importante del trabajo de los operadores, puede ser necesario evaluar si están cumpliendo con sus objetivos de llamadas. Si el promedio de 15 llamadas salientes por operador es bajo en comparación con los objetivos de la empresa, considerar la asignación de metas más claras o incentivos para aumentar el número de llamadas realizadas.\n",
    "\n",
    "---\n",
    "\n",
    "1. Improve the speed of response to incoming calls: Reduction of waiting time.\n",
    "   \n",
    "Review ineffective operators: \n",
    "- Consider implementing a training plan for ineffective operators to improve their performance in terms of call handling and wait times. Identify the causes that lead them to be ineffective and address possible workload issues or lack of motivation.\n",
    "- If certain operators are constantly overloaded with incoming calls, it might be useful to redistribute the workload more evenly among operators.\n",
    "\n",
    "3. Evaluate the effectiveness of outbound calls: If outbound calls are an important part of the operators' workload, it may be necessary to evaluate whether they are meeting their call targets. If the average of 15 outbound calls per operator is low compared to the company's objectives, consider assigning clearer goals or incentives to increase the number of calls made.\n",
    "\n",
    "---\n",
    "\n",
    "En general, los resultados sugieren que, aunque el sistema parece estar funcionando bien, hay áreas clave donde pequeñas mejoras podrían tener un impacto significativo en la eficiencia y la satisfacción del cliente.\n",
    "\n",
    "Overall, the results suggest that, although the system appears to be working well, there are key areas where small improvements could have a significant impact on efficiency and customer satisfaction."
   ]
  },
  {
   "cell_type": "code",
   "execution_count": null,
   "id": "60056755",
   "metadata": {},
   "outputs": [],
   "source": []
  }
 ],
 "metadata": {
  "ExecuteTimeLog": [
   {
    "duration": 2551,
    "start_time": "2025-02-05T19:23:59.505Z"
   },
   {
    "duration": 70,
    "start_time": "2025-02-05T19:24:14.444Z"
   },
   {
    "duration": 11,
    "start_time": "2025-02-05T19:24:19.830Z"
   },
   {
    "duration": 15,
    "start_time": "2025-02-05T19:24:35.479Z"
   },
   {
    "duration": 13,
    "start_time": "2025-02-05T19:24:54.074Z"
   },
   {
    "duration": 5,
    "start_time": "2025-02-05T19:24:58.905Z"
   },
   {
    "duration": 8,
    "start_time": "2025-02-05T19:25:06.468Z"
   },
   {
    "duration": 4,
    "start_time": "2025-02-05T19:25:23.105Z"
   },
   {
    "duration": 9,
    "start_time": "2025-02-05T19:25:35.728Z"
   },
   {
    "duration": 24,
    "start_time": "2025-02-05T19:25:50.116Z"
   },
   {
    "duration": 6,
    "start_time": "2025-02-05T19:25:56.865Z"
   },
   {
    "duration": 14,
    "start_time": "2025-02-05T19:26:10.026Z"
   },
   {
    "duration": 12,
    "start_time": "2025-02-05T19:26:27.693Z"
   },
   {
    "duration": 6,
    "start_time": "2025-02-05T19:26:42.768Z"
   },
   {
    "duration": 20,
    "start_time": "2025-02-05T19:28:40.210Z"
   },
   {
    "duration": 4,
    "start_time": "2025-02-05T19:28:53.983Z"
   },
   {
    "duration": 364,
    "start_time": "2025-02-05T19:29:06.874Z"
   },
   {
    "duration": 3,
    "start_time": "2025-02-05T19:29:29.119Z"
   },
   {
    "duration": 12,
    "start_time": "2025-02-05T19:29:33.554Z"
   },
   {
    "duration": 5,
    "start_time": "2025-02-05T19:29:39.998Z"
   },
   {
    "duration": 347,
    "start_time": "2025-02-05T19:29:52.569Z"
   },
   {
    "duration": 19,
    "start_time": "2025-02-05T19:30:16.666Z"
   },
   {
    "duration": 5,
    "start_time": "2025-02-05T19:30:23.397Z"
   },
   {
    "duration": 343,
    "start_time": "2025-02-05T19:30:38.856Z"
   },
   {
    "duration": 8,
    "start_time": "2025-02-05T19:31:11.383Z"
   },
   {
    "duration": 15,
    "start_time": "2025-02-05T19:31:18.444Z"
   },
   {
    "duration": 12,
    "start_time": "2025-02-05T19:31:26.597Z"
   },
   {
    "duration": 5,
    "start_time": "2025-02-05T19:31:49.227Z"
   },
   {
    "duration": 87,
    "start_time": "2025-02-05T19:31:54.230Z"
   },
   {
    "duration": 4,
    "start_time": "2025-02-05T19:32:24.496Z"
   },
   {
    "duration": 5,
    "start_time": "2025-02-05T19:32:29.809Z"
   }
  ],
  "kernelspec": {
   "display_name": "Python 3 (ipykernel)",
   "language": "python",
   "name": "python3"
  },
  "language_info": {
   "codemirror_mode": {
    "name": "ipython",
    "version": 3
   },
   "file_extension": ".py",
   "mimetype": "text/x-python",
   "name": "python",
   "nbconvert_exporter": "python",
   "pygments_lexer": "ipython3",
   "version": "3.9.19"
  },
  "toc": {
   "base_numbering": 1,
   "nav_menu": {},
   "number_sections": true,
   "sideBar": true,
   "skip_h1_title": true,
   "title_cell": "Table of Contents",
   "title_sidebar": "Contents",
   "toc_cell": false,
   "toc_position": {},
   "toc_section_display": true,
   "toc_window_display": false
  }
 },
 "nbformat": 4,
 "nbformat_minor": 5
}
